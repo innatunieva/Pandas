{
 "cells": [
  {
   "cell_type": "markdown",
   "metadata": {},
   "source": [
    "# 1"
   ]
  },
  {
   "cell_type": "code",
   "execution_count": 24,
   "metadata": {
    "collapsed": true
   },
   "outputs": [],
   "source": [
    "def mean(values):\n",
    "    average=sum(values)/len(values)\n",
    "    return average"
   ]
  },
  {
   "cell_type": "code",
   "execution_count": 33,
   "metadata": {
    "collapsed": false
   },
   "outputs": [
    {
     "name": "stdout",
     "output_type": "stream",
     "text": [
      "Please, input several numbers separated by commas 1,3,2,11\n"
     ]
    }
   ],
   "source": [
    "x=input (\"Please, input several numbers separated by commas \")\n",
    "y= mean(x)"
   ]
  },
  {
   "cell_type": "code",
   "execution_count": 34,
   "metadata": {
    "collapsed": false
   },
   "outputs": [
    {
     "name": "stdout",
     "output_type": "stream",
     "text": [
      "4\n"
     ]
    }
   ],
   "source": [
    "print(y)"
   ]
  },
  {
   "cell_type": "markdown",
   "metadata": {},
   "source": [
    "# 2"
   ]
  },
  {
   "cell_type": "code",
   "execution_count": 35,
   "metadata": {
    "collapsed": false
   },
   "outputs": [
    {
     "name": "stdout",
     "output_type": "stream",
     "text": [
      "type a number 2\n"
     ]
    }
   ],
   "source": [
    "n=input(\"type a number \")"
   ]
  },
  {
   "cell_type": "code",
   "execution_count": 36,
   "metadata": {
    "collapsed": false
   },
   "outputs": [],
   "source": [
    "z=mean(x[-n:])"
   ]
  },
  {
   "cell_type": "code",
   "execution_count": 37,
   "metadata": {
    "collapsed": false
   },
   "outputs": [
    {
     "name": "stdout",
     "output_type": "stream",
     "text": [
      "(2, 11)\n"
     ]
    }
   ],
   "source": [
    "print(x[-n:])"
   ]
  },
  {
   "cell_type": "code",
   "execution_count": 38,
   "metadata": {
    "collapsed": false
   },
   "outputs": [
    {
     "name": "stdout",
     "output_type": "stream",
     "text": [
      "6\n"
     ]
    }
   ],
   "source": [
    "print(z)"
   ]
  },
  {
   "cell_type": "markdown",
   "metadata": {
    "collapsed": true
   },
   "source": [
    "# 3"
   ]
  },
  {
   "cell_type": "code",
   "execution_count": null,
   "metadata": {
    "collapsed": true
   },
   "outputs": [],
   "source": [
    "#3-a "
   ]
  },
  {
   "cell_type": "code",
   "execution_count": 39,
   "metadata": {
    "collapsed": true
   },
   "outputs": [],
   "source": [
    "import random"
   ]
  },
  {
   "cell_type": "code",
   "execution_count": 86,
   "metadata": {
    "collapsed": false
   },
   "outputs": [
    {
     "name": "stdout",
     "output_type": "stream",
     "text": [
      "3\n"
     ]
    }
   ],
   "source": [
    "from random import randint\n",
    "n=(randint(1,100))\n",
    "print(n)"
   ]
  },
  {
   "cell_type": "code",
   "execution_count": 87,
   "metadata": {
    "collapsed": true
   },
   "outputs": [],
   "source": [
    "r1=range(1,51)\n",
    "r2=range(51,100)"
   ]
  },
  {
   "cell_type": "code",
   "execution_count": 88,
   "metadata": {
    "collapsed": false
   },
   "outputs": [],
   "source": [
    "def checker(number):\n",
    "    if n in r1:\n",
    "        return \"Loss\"\n",
    "    elif n in r2:\n",
    "        return \"Win\"\n",
    "    else:\n",
    "        return \"Draw\""
   ]
  },
  {
   "cell_type": "code",
   "execution_count": 89,
   "metadata": {
    "collapsed": false
   },
   "outputs": [
    {
     "data": {
      "text/plain": [
       "'Loss'"
      ]
     },
     "execution_count": 89,
     "metadata": {},
     "output_type": "execute_result"
    }
   ],
   "source": [
    "checker(n)"
   ]
  },
  {
   "cell_type": "code",
   "execution_count": null,
   "metadata": {
    "collapsed": true
   },
   "outputs": [],
   "source": [
    "#3-b (another way-without adding the checher)"
   ]
  },
  {
   "cell_type": "code",
   "execution_count": 90,
   "metadata": {
    "collapsed": false
   },
   "outputs": [
    {
     "name": "stdout",
     "output_type": "stream",
     "text": [
      "Loss\n"
     ]
    }
   ],
   "source": [
    "if n in r1:\n",
    "    print(\"Loss\")\n",
    "if n in r2:\n",
    "    print(\"Win\")\n",
    "if n==100:\n",
    "    print(\"Draw\")"
   ]
  },
  {
   "cell_type": "markdown",
   "metadata": {},
   "source": [
    "# 4"
   ]
  },
  {
   "cell_type": "code",
   "execution_count": 55,
   "metadata": {
    "collapsed": true
   },
   "outputs": [],
   "source": [
    "import pandas_datareader.data as web"
   ]
  },
  {
   "cell_type": "raw",
   "metadata": {},
   "source": [
    "# Codexis, Inc. = CDXS\n",
    "# ZIOPHARM Oncology Inc. = ZIOP\n",
    "# Pfizer Inc. = PFE"
   ]
  },
  {
   "cell_type": "code",
   "execution_count": 56,
   "metadata": {
    "collapsed": true
   },
   "outputs": [],
   "source": [
    "import pandas_datareader.data as web\n",
    "import datetime"
   ]
  },
  {
   "cell_type": "code",
   "execution_count": 57,
   "metadata": {
    "collapsed": false
   },
   "outputs": [],
   "source": [
    "start = datetime.datetime(2012,1,1)\n",
    "end = datetime.date.today()"
   ]
  },
  {
   "cell_type": "code",
   "execution_count": 58,
   "metadata": {
    "collapsed": true
   },
   "outputs": [],
   "source": [
    "codexis = web.DataReader(\"CDXS\",\"google\", start, end)"
   ]
  },
  {
   "cell_type": "code",
   "execution_count": 59,
   "metadata": {
    "collapsed": true
   },
   "outputs": [],
   "source": [
    "ziopharm = web.DataReader(\"ZIOP\",\"google\", start, end)"
   ]
  },
  {
   "cell_type": "code",
   "execution_count": 60,
   "metadata": {
    "collapsed": true
   },
   "outputs": [],
   "source": [
    "pfizer = web.DataReader(\"PFE\",\"google\", start, end)"
   ]
  },
  {
   "cell_type": "code",
   "execution_count": 61,
   "metadata": {
    "collapsed": false
   },
   "outputs": [
    {
     "data": {
      "text/plain": [
       "(            Open  High   Low  Close  Volume\n",
       " Date                                       \n",
       " 2012-01-03  5.44  5.52  5.27   5.48  105067\n",
       " 2012-01-04  5.41  5.52  5.11   5.13   95517\n",
       " 2012-01-05  5.10  5.24  5.08   5.18   87245\n",
       " 2012-01-06  5.16  5.27  5.11   5.11   27075\n",
       " 2012-01-09  5.17  5.22  5.10   5.11   58387\n",
       " 2012-01-10  5.22  5.52  5.22   5.44  118524\n",
       " 2012-01-11  5.39  5.42  5.18   5.35   72605,\n",
       "             Open  High   Low  Close   Volume\n",
       " Date                                        \n",
       " 2012-01-03  4.51  4.55  4.22   4.30   455150\n",
       " 2012-01-04  4.25  4.32  4.20   4.21   202351\n",
       " 2012-01-05  4.18  4.32  4.17   4.30   203084\n",
       " 2012-01-06  4.29  4.31  4.17   4.20   169953\n",
       " 2012-01-09  4.18  4.36  4.15   4.35   464275\n",
       " 2012-01-10  4.41  4.57  4.37   4.55   419580\n",
       " 2012-01-11  4.54  5.18  4.47   5.15  1054719,\n",
       "              Open   High    Low  Close    Volume\n",
       " Date                                            \n",
       " 2012-01-03  21.86  22.00  21.84  21.97  50403742\n",
       " 2012-01-04  21.92  21.95  21.75  21.77  30277572\n",
       " 2012-01-05  21.72  21.72  21.39  21.60  50061598\n",
       " 2012-01-06  21.72  21.78  21.56  21.57  29993849\n",
       " 2012-01-09  21.56  21.84  21.51  21.82  39647338\n",
       " 2012-01-10  21.94  22.00  21.80  21.94  27730534\n",
       " 2012-01-11  21.89  21.97  21.76  21.90  28765566)"
      ]
     },
     "execution_count": 61,
     "metadata": {},
     "output_type": "execute_result"
    }
   ],
   "source": [
    "codexis.head(7), ziopharm.head(7), pfizer.head(7)"
   ]
  },
  {
   "cell_type": "code",
   "execution_count": 62,
   "metadata": {
    "collapsed": false
   },
   "outputs": [
    {
     "data": {
      "text/html": [
       "<div>\n",
       "<table border=\"1\" class=\"dataframe\">\n",
       "  <thead>\n",
       "    <tr style=\"text-align: right;\">\n",
       "      <th></th>\n",
       "      <th>Open</th>\n",
       "      <th>High</th>\n",
       "      <th>Low</th>\n",
       "      <th>Close</th>\n",
       "      <th>Volume</th>\n",
       "    </tr>\n",
       "    <tr>\n",
       "      <th>Date</th>\n",
       "      <th></th>\n",
       "      <th></th>\n",
       "      <th></th>\n",
       "      <th></th>\n",
       "      <th></th>\n",
       "    </tr>\n",
       "  </thead>\n",
       "  <tbody>\n",
       "    <tr>\n",
       "      <th>2012-01-03</th>\n",
       "      <td>5.44</td>\n",
       "      <td>5.52</td>\n",
       "      <td>5.27</td>\n",
       "      <td>5.48</td>\n",
       "      <td>105067</td>\n",
       "    </tr>\n",
       "    <tr>\n",
       "      <th>2012-01-04</th>\n",
       "      <td>5.41</td>\n",
       "      <td>5.52</td>\n",
       "      <td>5.11</td>\n",
       "      <td>5.13</td>\n",
       "      <td>95517</td>\n",
       "    </tr>\n",
       "    <tr>\n",
       "      <th>2012-01-05</th>\n",
       "      <td>5.10</td>\n",
       "      <td>5.24</td>\n",
       "      <td>5.08</td>\n",
       "      <td>5.18</td>\n",
       "      <td>87245</td>\n",
       "    </tr>\n",
       "    <tr>\n",
       "      <th>2012-01-06</th>\n",
       "      <td>5.16</td>\n",
       "      <td>5.27</td>\n",
       "      <td>5.11</td>\n",
       "      <td>5.11</td>\n",
       "      <td>27075</td>\n",
       "    </tr>\n",
       "    <tr>\n",
       "      <th>2012-01-09</th>\n",
       "      <td>5.17</td>\n",
       "      <td>5.22</td>\n",
       "      <td>5.10</td>\n",
       "      <td>5.11</td>\n",
       "      <td>58387</td>\n",
       "    </tr>\n",
       "    <tr>\n",
       "      <th>2012-01-10</th>\n",
       "      <td>5.22</td>\n",
       "      <td>5.52</td>\n",
       "      <td>5.22</td>\n",
       "      <td>5.44</td>\n",
       "      <td>118524</td>\n",
       "    </tr>\n",
       "    <tr>\n",
       "      <th>2012-01-11</th>\n",
       "      <td>5.39</td>\n",
       "      <td>5.42</td>\n",
       "      <td>5.18</td>\n",
       "      <td>5.35</td>\n",
       "      <td>72605</td>\n",
       "    </tr>\n",
       "  </tbody>\n",
       "</table>\n",
       "</div>"
      ],
      "text/plain": [
       "            Open  High   Low  Close  Volume\n",
       "Date                                       \n",
       "2012-01-03  5.44  5.52  5.27   5.48  105067\n",
       "2012-01-04  5.41  5.52  5.11   5.13   95517\n",
       "2012-01-05  5.10  5.24  5.08   5.18   87245\n",
       "2012-01-06  5.16  5.27  5.11   5.11   27075\n",
       "2012-01-09  5.17  5.22  5.10   5.11   58387\n",
       "2012-01-10  5.22  5.52  5.22   5.44  118524\n",
       "2012-01-11  5.39  5.42  5.18   5.35   72605"
      ]
     },
     "execution_count": 62,
     "metadata": {},
     "output_type": "execute_result"
    }
   ],
   "source": [
    "codexis.head(7)"
   ]
  },
  {
   "cell_type": "code",
   "execution_count": 63,
   "metadata": {
    "collapsed": false
   },
   "outputs": [
    {
     "data": {
      "text/html": [
       "<div>\n",
       "<table border=\"1\" class=\"dataframe\">\n",
       "  <thead>\n",
       "    <tr style=\"text-align: right;\">\n",
       "      <th></th>\n",
       "      <th>Open</th>\n",
       "      <th>High</th>\n",
       "      <th>Low</th>\n",
       "      <th>Close</th>\n",
       "      <th>Volume</th>\n",
       "    </tr>\n",
       "    <tr>\n",
       "      <th>Date</th>\n",
       "      <th></th>\n",
       "      <th></th>\n",
       "      <th></th>\n",
       "      <th></th>\n",
       "      <th></th>\n",
       "    </tr>\n",
       "  </thead>\n",
       "  <tbody>\n",
       "    <tr>\n",
       "      <th>2012-01-03</th>\n",
       "      <td>4.51</td>\n",
       "      <td>4.55</td>\n",
       "      <td>4.22</td>\n",
       "      <td>4.30</td>\n",
       "      <td>455150</td>\n",
       "    </tr>\n",
       "    <tr>\n",
       "      <th>2012-01-04</th>\n",
       "      <td>4.25</td>\n",
       "      <td>4.32</td>\n",
       "      <td>4.20</td>\n",
       "      <td>4.21</td>\n",
       "      <td>202351</td>\n",
       "    </tr>\n",
       "    <tr>\n",
       "      <th>2012-01-05</th>\n",
       "      <td>4.18</td>\n",
       "      <td>4.32</td>\n",
       "      <td>4.17</td>\n",
       "      <td>4.30</td>\n",
       "      <td>203084</td>\n",
       "    </tr>\n",
       "    <tr>\n",
       "      <th>2012-01-06</th>\n",
       "      <td>4.29</td>\n",
       "      <td>4.31</td>\n",
       "      <td>4.17</td>\n",
       "      <td>4.20</td>\n",
       "      <td>169953</td>\n",
       "    </tr>\n",
       "    <tr>\n",
       "      <th>2012-01-09</th>\n",
       "      <td>4.18</td>\n",
       "      <td>4.36</td>\n",
       "      <td>4.15</td>\n",
       "      <td>4.35</td>\n",
       "      <td>464275</td>\n",
       "    </tr>\n",
       "    <tr>\n",
       "      <th>2012-01-10</th>\n",
       "      <td>4.41</td>\n",
       "      <td>4.57</td>\n",
       "      <td>4.37</td>\n",
       "      <td>4.55</td>\n",
       "      <td>419580</td>\n",
       "    </tr>\n",
       "    <tr>\n",
       "      <th>2012-01-11</th>\n",
       "      <td>4.54</td>\n",
       "      <td>5.18</td>\n",
       "      <td>4.47</td>\n",
       "      <td>5.15</td>\n",
       "      <td>1054719</td>\n",
       "    </tr>\n",
       "  </tbody>\n",
       "</table>\n",
       "</div>"
      ],
      "text/plain": [
       "            Open  High   Low  Close   Volume\n",
       "Date                                        \n",
       "2012-01-03  4.51  4.55  4.22   4.30   455150\n",
       "2012-01-04  4.25  4.32  4.20   4.21   202351\n",
       "2012-01-05  4.18  4.32  4.17   4.30   203084\n",
       "2012-01-06  4.29  4.31  4.17   4.20   169953\n",
       "2012-01-09  4.18  4.36  4.15   4.35   464275\n",
       "2012-01-10  4.41  4.57  4.37   4.55   419580\n",
       "2012-01-11  4.54  5.18  4.47   5.15  1054719"
      ]
     },
     "execution_count": 63,
     "metadata": {},
     "output_type": "execute_result"
    }
   ],
   "source": [
    "ziopharm.head(7)"
   ]
  },
  {
   "cell_type": "code",
   "execution_count": 64,
   "metadata": {
    "collapsed": false
   },
   "outputs": [
    {
     "data": {
      "text/html": [
       "<div>\n",
       "<table border=\"1\" class=\"dataframe\">\n",
       "  <thead>\n",
       "    <tr style=\"text-align: right;\">\n",
       "      <th></th>\n",
       "      <th>Open</th>\n",
       "      <th>High</th>\n",
       "      <th>Low</th>\n",
       "      <th>Close</th>\n",
       "      <th>Volume</th>\n",
       "    </tr>\n",
       "    <tr>\n",
       "      <th>Date</th>\n",
       "      <th></th>\n",
       "      <th></th>\n",
       "      <th></th>\n",
       "      <th></th>\n",
       "      <th></th>\n",
       "    </tr>\n",
       "  </thead>\n",
       "  <tbody>\n",
       "    <tr>\n",
       "      <th>2012-01-03</th>\n",
       "      <td>21.86</td>\n",
       "      <td>22.00</td>\n",
       "      <td>21.84</td>\n",
       "      <td>21.97</td>\n",
       "      <td>50403742</td>\n",
       "    </tr>\n",
       "    <tr>\n",
       "      <th>2012-01-04</th>\n",
       "      <td>21.92</td>\n",
       "      <td>21.95</td>\n",
       "      <td>21.75</td>\n",
       "      <td>21.77</td>\n",
       "      <td>30277572</td>\n",
       "    </tr>\n",
       "    <tr>\n",
       "      <th>2012-01-05</th>\n",
       "      <td>21.72</td>\n",
       "      <td>21.72</td>\n",
       "      <td>21.39</td>\n",
       "      <td>21.60</td>\n",
       "      <td>50061598</td>\n",
       "    </tr>\n",
       "    <tr>\n",
       "      <th>2012-01-06</th>\n",
       "      <td>21.72</td>\n",
       "      <td>21.78</td>\n",
       "      <td>21.56</td>\n",
       "      <td>21.57</td>\n",
       "      <td>29993849</td>\n",
       "    </tr>\n",
       "    <tr>\n",
       "      <th>2012-01-09</th>\n",
       "      <td>21.56</td>\n",
       "      <td>21.84</td>\n",
       "      <td>21.51</td>\n",
       "      <td>21.82</td>\n",
       "      <td>39647338</td>\n",
       "    </tr>\n",
       "    <tr>\n",
       "      <th>2012-01-10</th>\n",
       "      <td>21.94</td>\n",
       "      <td>22.00</td>\n",
       "      <td>21.80</td>\n",
       "      <td>21.94</td>\n",
       "      <td>27730534</td>\n",
       "    </tr>\n",
       "    <tr>\n",
       "      <th>2012-01-11</th>\n",
       "      <td>21.89</td>\n",
       "      <td>21.97</td>\n",
       "      <td>21.76</td>\n",
       "      <td>21.90</td>\n",
       "      <td>28765566</td>\n",
       "    </tr>\n",
       "  </tbody>\n",
       "</table>\n",
       "</div>"
      ],
      "text/plain": [
       "             Open   High    Low  Close    Volume\n",
       "Date                                            \n",
       "2012-01-03  21.86  22.00  21.84  21.97  50403742\n",
       "2012-01-04  21.92  21.95  21.75  21.77  30277572\n",
       "2012-01-05  21.72  21.72  21.39  21.60  50061598\n",
       "2012-01-06  21.72  21.78  21.56  21.57  29993849\n",
       "2012-01-09  21.56  21.84  21.51  21.82  39647338\n",
       "2012-01-10  21.94  22.00  21.80  21.94  27730534\n",
       "2012-01-11  21.89  21.97  21.76  21.90  28765566"
      ]
     },
     "execution_count": 64,
     "metadata": {},
     "output_type": "execute_result"
    }
   ],
   "source": [
    "pfizer.head(7)"
   ]
  },
  {
   "cell_type": "code",
   "execution_count": 65,
   "metadata": {
    "collapsed": false
   },
   "outputs": [
    {
     "data": {
      "text/plain": [
       "pandas.core.frame.DataFrame"
      ]
     },
     "execution_count": 65,
     "metadata": {},
     "output_type": "execute_result"
    }
   ],
   "source": [
    "type(pfizer)"
   ]
  },
  {
   "cell_type": "code",
   "execution_count": 21,
   "metadata": {
    "collapsed": false
   },
   "outputs": [],
   "source": [
    "import matplotlib.pyplot as plt \n",
    "%matplotlib inline"
   ]
  },
  {
   "cell_type": "code",
   "execution_count": 67,
   "metadata": {
    "collapsed": false
   },
   "outputs": [
    {
     "data": {
      "text/plain": [
       "[<matplotlib.lines.Line2D at 0xc88da58>]"
      ]
     },
     "execution_count": 67,
     "metadata": {},
     "output_type": "execute_result"
    },
    {
     "data": {
      "image/png": "[encoded data removed]",
      "text/plain": [
       "<matplotlib.figure.Figure at 0xc872828>"
      ]
     },
     "metadata": {},
     "output_type": "display_data"
    }
   ],
   "source": [
    "plt.plot(codexis[\"High\"])"
   ]
  },
  {
   "cell_type": "code",
   "execution_count": 68,
   "metadata": {
    "collapsed": false
   },
   "outputs": [
    {
     "data": {
      "text/plain": [
       "[<matplotlib.lines.Line2D at 0xc8aeb00>]"
      ]
     },
     "execution_count": 68,
     "metadata": {},
     "output_type": "execute_result"
    },
    {
     "data": {
      "image/png": "[encoded data removed]",
      "text/plain": [
       "<matplotlib.figure.Figure at 0xca31e10>"
      ]
     },
     "metadata": {},
     "output_type": "display_data"
    }
   ],
   "source": [
    "plt.plot(ziopharm[\"High\"])"
   ]
  },
  {
   "cell_type": "code",
   "execution_count": 69,
   "metadata": {
    "collapsed": false
   },
   "outputs": [
    {
     "data": {
      "text/plain": [
       "[<matplotlib.lines.Line2D at 0xcc70908>]"
      ]
     },
     "execution_count": 69,
     "metadata": {},
     "output_type": "execute_result"
    },
    {
     "data": {
      "image/png": "[encoded data removed]",
      "text/plain": [
       "<matplotlib.figure.Figure at 0xcc0b7b8>"
      ]
     },
     "metadata": {},
     "output_type": "display_data"
    }
   ],
   "source": [
    "plt.plot(pfizer[\"High\"])"
   ]
  },
  {
   "cell_type": "code",
   "execution_count": 31,
   "metadata": {
    "collapsed": false
   },
   "outputs": [],
   "source": [
    "import pandas as pd"
   ]
  },
  {
   "cell_type": "code",
   "execution_count": 70,
   "metadata": {
    "collapsed": false
   },
   "outputs": [
    {
     "data": {
      "text/html": [
       "<div>\n",
       "<table border=\"1\" class=\"dataframe\">\n",
       "  <thead>\n",
       "    <tr style=\"text-align: right;\">\n",
       "      <th></th>\n",
       "      <th>CDXS</th>\n",
       "      <th>PFE</th>\n",
       "      <th>ZIOP</th>\n",
       "    </tr>\n",
       "    <tr>\n",
       "      <th>Date</th>\n",
       "      <th></th>\n",
       "      <th></th>\n",
       "      <th></th>\n",
       "    </tr>\n",
       "  </thead>\n",
       "  <tbody>\n",
       "    <tr>\n",
       "      <th>2012-01-03</th>\n",
       "      <td>5.52</td>\n",
       "      <td>22.00</td>\n",
       "      <td>4.55</td>\n",
       "    </tr>\n",
       "    <tr>\n",
       "      <th>2012-01-04</th>\n",
       "      <td>5.52</td>\n",
       "      <td>21.95</td>\n",
       "      <td>4.32</td>\n",
       "    </tr>\n",
       "    <tr>\n",
       "      <th>2012-01-05</th>\n",
       "      <td>5.24</td>\n",
       "      <td>21.72</td>\n",
       "      <td>4.32</td>\n",
       "    </tr>\n",
       "    <tr>\n",
       "      <th>2012-01-06</th>\n",
       "      <td>5.27</td>\n",
       "      <td>21.78</td>\n",
       "      <td>4.31</td>\n",
       "    </tr>\n",
       "    <tr>\n",
       "      <th>2012-01-09</th>\n",
       "      <td>5.22</td>\n",
       "      <td>21.84</td>\n",
       "      <td>4.36</td>\n",
       "    </tr>\n",
       "    <tr>\n",
       "      <th>2012-01-10</th>\n",
       "      <td>5.52</td>\n",
       "      <td>22.00</td>\n",
       "      <td>4.57</td>\n",
       "    </tr>\n",
       "    <tr>\n",
       "      <th>2012-01-11</th>\n",
       "      <td>5.42</td>\n",
       "      <td>21.97</td>\n",
       "      <td>5.18</td>\n",
       "    </tr>\n",
       "  </tbody>\n",
       "</table>\n",
       "</div>"
      ],
      "text/plain": [
       "            CDXS    PFE  ZIOP\n",
       "Date                         \n",
       "2012-01-03  5.52  22.00  4.55\n",
       "2012-01-04  5.52  21.95  4.32\n",
       "2012-01-05  5.24  21.72  4.32\n",
       "2012-01-06  5.27  21.78  4.31\n",
       "2012-01-09  5.22  21.84  4.36\n",
       "2012-01-10  5.52  22.00  4.57\n",
       "2012-01-11  5.42  21.97  5.18"
      ]
     },
     "execution_count": 70,
     "metadata": {},
     "output_type": "execute_result"
    }
   ],
   "source": [
    "stocks = pd.DataFrame({\"CDXS\": codexis [\"High\"  ],\n",
    "                      \"ZIOP\": ziopharm[\"High\"],\n",
    "                      \"PFE\": pfizer[\"High\"]})\n",
    " \n",
    "stocks.head(7)"
   ]
  },
  {
   "cell_type": "code",
   "execution_count": 71,
   "metadata": {
    "collapsed": false
   },
   "outputs": [
    {
     "data": {
      "text/plain": [
       "<matplotlib.axes._subplots.AxesSubplot at 0xac1a518>"
      ]
     },
     "execution_count": 71,
     "metadata": {},
     "output_type": "execute_result"
    },
    {
     "data": {
      "image/png": "[encoded data removed]",
      "text/plain": [
       "<matplotlib.figure.Figure at 0xb3dbcf8>"
      ]
     },
     "metadata": {},
     "output_type": "display_data"
    }
   ],
   "source": [
    "stocks.plot()"
   ]
  },
  {
   "cell_type": "code",
   "execution_count": 102,
   "metadata": {
    "collapsed": false
   },
   "outputs": [],
   "source": [
    "our_list=[]\n",
    "for number in ziopharm[\"Open\"]:\n",
    "           our_list.append(number)"
   ]
  },
  {
   "cell_type": "code",
   "execution_count": 106,
   "metadata": {
    "collapsed": false
   },
   "outputs": [
    {
     "name": "stdout",
     "output_type": "stream",
     "text": [
      "[4.5099999999999998, 4.25, 4.1799999999999997, 4.29, 4.1799999999999997, 4.4100000000000001, 4.54]\n"
     ]
    }
   ],
   "source": [
    "print(our_list[:7])"
   ]
  },
  {
   "cell_type": "markdown",
   "metadata": {},
   "source": [
    "# 5"
   ]
  },
  {
   "cell_type": "code",
   "execution_count": 117,
   "metadata": {
    "collapsed": true
   },
   "outputs": [],
   "source": [
    "particular_list=[]\n",
    "for number in ziopharm[\"Open\"]:\n",
    "    if 12<number<=13:\n",
    "           particular_list.append(number)"
   ]
  },
  {
   "cell_type": "code",
   "execution_count": 118,
   "metadata": {
    "collapsed": false
   },
   "outputs": [
    {
     "name": "stdout",
     "output_type": "stream",
     "text": [
      "[12.140000000000001, 12.4, 12.84, 12.699999999999999, 12.390000000000001, 12.08, 12.369999999999999, 12.59, 12.279999999999999, 12.130000000000001, 12.119999999999999, 12.52, 12.800000000000001, 12.92, 12.720000000000001, 12.5, 12.82, 12.81, 12.27, 12.220000000000001, 12.81, 12.74, 12.880000000000001, 13.0, 12.4, 12.9, 12.460000000000001, 12.789999999999999, 12.92, 12.06, 12.18, 12.869999999999999, 13.0, 12.82, 12.880000000000001, 12.800000000000001, 12.9, 12.529999999999999, 12.43, 12.550000000000001, 12.859999999999999, 12.68, 12.76]\n"
     ]
    }
   ],
   "source": [
    "print(particular_list)"
   ]
  },
  {
   "cell_type": "code",
   "execution_count": null,
   "metadata": {
    "collapsed": true
   },
   "outputs": [],
   "source": []
  }
 ],
 "metadata": {
  "kernelspec": {
   "display_name": "Python 2",
   "language": "python",
   "name": "python2"
  },
  "language_info": {
   "codemirror_mode": {
    "name": "ipython",
    "version": 2
   },
   "file_extension": ".py",
   "mimetype": "text/x-python",
   "name": "python",
   "nbconvert_exporter": "python",
   "pygments_lexer": "ipython2",
   "version": "2.7.13"
  }
 },
 "nbformat": 4,
 "nbformat_minor": 2
}
